{
 "metadata": {
  "language_info": {
   "codemirror_mode": {
    "name": "ipython",
    "version": 3
   },
   "file_extension": ".py",
   "mimetype": "text/x-python",
   "name": "python",
   "nbconvert_exporter": "python",
   "pygments_lexer": "ipython3",
   "version": "3.9.1-final"
  },
  "orig_nbformat": 2,
  "kernelspec": {
   "name": "python3",
   "display_name": "Python 3.9.1 64-bit ('venv': venv)",
   "metadata": {
    "interpreter": {
     "hash": "276cd0850b4d6ce7af5837000dbf3a42791da73a8252296813028727418dddec"
    }
   }
  }
 },
 "nbformat": 4,
 "nbformat_minor": 2,
 "cells": [
  {
   "source": [
    "# 03-3 이진 검색   \n",
    "\n",
    "이진 검색 알고리즘을 사용하려면 배열의 데이터가 `정렬`되어 있어야 해요. \n",
    "\n",
    "- 선형 검색 < 이진검색 `Faster`"
   ],
   "cell_type": "markdown",
   "metadata": {}
  },
  {
   "cell_type": "code",
   "execution_count": 19,
   "metadata": {},
   "outputs": [
    {
     "output_type": "stream",
     "name": "stdout",
     "text": [
      "배열 데이터를 오름차순으로 입력하세요\n",
      "검색 값은 x[1]에 있습니다.\n"
     ]
    }
   ],
   "source": [
    "# 실습 3-4 | page.123\n",
    "# 이진 검색 알고리즘\n",
    "\n",
    "from typing import Any, Sequence, List, Dict\n",
    "\n",
    "def bin_search(a: Sequence, key:Sequence) -> int:\n",
    "    \"\"\"시퀀스a에서 key와 일치하는 원소를 이진 검색 \"\"\"\n",
    "    \n",
    "    pl = 0              # 검색 범위 맨 앞 원소의 인덱스\n",
    "    pr = len(a) - 1     # 검색 범위 맨 뒤 원소의 인덱스\n",
    "\n",
    "    while True:\n",
    "        pc = (pl + pr) // 2 # 중앙 원소의 인덱스 \n",
    "        if a[pc] == key:\n",
    "            return pc       # 검색 성공\n",
    "        elif a[pc] < key:\n",
    "            pl = pc + 1     # 검색 범위를 오른쪽 절반으로 좁힘\n",
    "        else:\n",
    "            pr = pc -1      # 검색 범위를 왼쪽 절반으로 좁힘\n",
    "        if pl > pr: \n",
    "            break\n",
    "        return -1           # 검색 실패\n",
    "\n",
    "\n",
    "if __name__ == '__main__':\n",
    "    num = int(input('원소 수를 입력하세요.'))\n",
    "    x = [None] * num        # 원소수가 num인 배열을 생성\n",
    "\n",
    "    print('배열 데이터를 오름차순으로 입력하세요')\n",
    "\n",
    "    x[0] = int(input('x[0]: '))\n",
    "    \n",
    "    for i in range(1, num):\n",
    "        while True:\n",
    "            x[i] = int(input(f'x[{i}]: '))\n",
    "            if x[i] >=x[i - 1]:\n",
    "                break               # 바로 직전에 입력한 원솟값보다 큰 값을 입력\n",
    "    \n",
    "    ky = int(input('검색할 값을 입력하세요.: ')) # 검색할 키값 ky를 입력\n",
    "    \n",
    "    idx = bin_search(x,ky)\n",
    "\n",
    "    if idx == -1:\n",
    "        print('검색값을 갖는 원소가 존재하지 않습니다.')\n",
    "    else:\n",
    "        print(f'검색 값은 x[{idx}]에 있습니다.')"
   ]
  },
  {
   "cell_type": "code",
   "execution_count": null,
   "metadata": {},
   "outputs": [],
   "source": []
  },
  {
   "source": [
    "# 해시법\n",
    "\n",
    "`검색`과 더불어 데이터의 `추가, 삭제`도 효율적으로 수행하는 해시법"
   ],
   "cell_type": "markdown",
   "metadata": {}
  },
  {
   "source": [
    "## 체인법(chaining)이란 해시값이 같은 데이터를 체인모양의 연결 리스트로 연결하는 방법 - `오픈 해시법`  \n",
    "\n"
   ],
   "cell_type": "markdown",
   "metadata": {}
  },
  {
   "cell_type": "code",
   "execution_count": 21,
   "metadata": {},
   "outputs": [],
   "source": [
    "# 실습 3-5\n",
    "# 체인법으로 해시 함수 구현하기 \n",
    "\n",
    "from __future__ import annotations\n",
    "from typing import Any, Type\n",
    "import hashlib\n",
    "\n",
    "class Node:\n",
    "    \"\"\"해시를 구성하는 노드 \"\"\"\n",
    "\n",
    "    def __init__(self, key: Any, value: Any, next: Node) -> None:\n",
    "        \"\"\"초기화\"\"\"\n",
    "        self.key = key     # 키\n",
    "        self.value = value # 값\n",
    "        self.next = next   # 뒤쪽 노드를 참조\n",
    "\n",
    "\n"
   ]
  },
  {
   "source": [
    "#### Node 클래스 생성   \n",
    "\n",
    "- key : 키(임의의 자료형)\n",
    "- value : 키(아무 자료형)\n",
    "- next : 뒤쪽 노드를 참조(Node형)\n",
    "\n",
    "노드 클래스 \" 키 : 값\" 짝 형성\n",
    "키에 해시 함수를 적용하여 해시값 구하기   \n"
   ],
   "cell_type": "markdown",
   "metadata": {}
  },
  {
   "cell_type": "code",
   "execution_count": 22,
   "metadata": {},
   "outputs": [],
   "source": [
    "# 실습 3-5 \n",
    "\n",
    "class ChainedHash:\n",
    "    \"\"\"체인법으로 해시 클래스 구현 \"\"\"\n",
    "    \n",
    "    def __init__(self, capacity: int) -> None:\n",
    "        '''초기화'''\n",
    "        self.capacity  = capacity           # 해시 테이블의 크기를 지정\n",
    "        self.table = [None] * self.capacity # 해시 테이블(리스트)을 선언\n",
    "\n",
    "    def hash_value(self, key: Any) -> int:\n",
    "        '''해시값 구하기 '''\n",
    "        if isinstance(key, int):\n",
    "            return key % self.capacity\n",
    "        return (inthashlib.sha256(str(key).encode().hexdigest(), 16) % self.capacity)"
   ]
  },
  {
   "source": [
    "#### ChaninedHash 해시 클래스 만들기    \n",
    "\n",
    "- capacity : 해시 테이블의 크기(배열 table의 원소 수)를 나타냅니다. \n",
    "- table    : 해시 테이블을 저장하는 list형 배열을 나타냅니다.\n",
    "\n",
    "#### \\__init\\__()함수로 초기화 하기 \n",
    "\n",
    "\\__init\\__()함수는 빈 해시 테이블을 생성   \n",
    "- capacity : 해시 테이블의 크기 --> `원소수가 capacity인 list형의 배열 table을 생성하고 모든 원소를 None으로 함`   \n",
    "\n",
    "#### hash_value() 해시 함수 만들기   \n",
    "`hash_value()` 함수는 인수 key에 대응하는 함수임"
   ],
   "cell_type": "markdown",
   "metadata": {}
  },
  {
   "cell_type": "code",
   "execution_count": null,
   "metadata": {},
   "outputs": [],
   "source": []
  },
  {
   "source": [
    "### 보충 | 해시&와 해시함수    \n",
    "\n",
    "해시와 해시 함수를 알아볼게요. 먼저 해시는 `긁어모음, 뒤죽박죽, 가늘게 썬 고기 음식`을 의미    \n",
    "만약 충돌 발생(x) --> 해시 함수로 인덱스를 찾는 것만으로 검색, 추가, 삭제가 대부분 완료 되므로 시간 복잡도는 모두 O(1)입니다.   \n",
    "\n",
    "`해시 테이블을 충분히 크게 만들면 충돌 발생을 억제할 수 있지만 이 방법은 메모리 낭비` --> `즉, 시간과 공간의 트레이드-오프(상충관계) 문재 발생`\n",
    "충돌을 피하려면 해시 함수가 해시 테이블 크기보다 작거나 같은 정수를 고르게 생성해야함. 따라서 해시 테이블의 크기는 소수를 선호\n",
    "\n",
    "\n",
    "\n"
   ],
   "cell_type": "markdown",
   "metadata": {}
  },
  {
   "source": [
    "> - key가 int형(O)   \n",
    "> key를 해시의 크기 capacity로 나눈 나머지를 해시값으로 합니다. 예를 들어 ChainedHash 클래스를 사용한 프로그램을 보면 key 가 int형이고 크기가 13이므로 키를 13으로 나눈 `나머지`가 `해시값`\n",
    "\n",
    "> - key가 int형(X)\n",
    "> key가 int형(X) 아닌 경우(문자열, 리스트, 클래스형 등) 그 값으로는 바로 나눌 수 없어요. 그래서 다음과 같은 표준 라이브러리로 형 변환을 해야 해시값을 얻을 수 있어요.   \n",
    "\n",
    "|제목|내용|\n",
    "|---|---|\n",
    "|sha256알고리즘|hashlib모듈에서 제공하는 sha256은 RSA 알고리즘을 바탕으로 하며, 주어진 바이트(byte) 문자열의 해시값을 구하는 해시 알고리즘의 생성자(constructor)입니다. hashlib모듈은 sha256외에도 md5 등 다양한 해시 알고리즘을 제공합니다. |\n",
    "|encode()|hashlib.sha256에는 바이트 문자열의 인수를 전달해야해요. 그래서 key를 str형 문자열로 변환한 뒤 그 문자열을 encode() 함수에 전달하여 바이트 문자열을 생성하게 합니다. |\n",
    "|hexdigest()| sha256 알고리즘에서 해시값을 16진수 문자열로 꺼냄.|\n",
    "|int()|hexdigest() 함수로 꺼낸 문자열을 16진수 문자열로 하는 int형으로 변환|"
   ],
   "cell_type": "markdown",
   "metadata": {}
  },
  {
   "source": [
    "### 키로 원소를 검색하는 search()함수   \n",
    "\n",
    "#### 33 검색하기   \n",
    "33의 해시값은 7이므로 `table[7]`이 가리키는 연결 리스트를 찾아값니다. 20 - > 33으로 찾아가면 검색에 성공합니다. \n",
    "\n",
    "#### 26 검색하기   \n",
    "26의 해시값은 0입니다. `table[0]`이 None이므로 검색에 실패\n",
    "\n",
    "search() 함수가 원소를 검색하는 과정    \n",
    "1. 해시 함수를 사용하여 키를 해시값으 변환    \n",
    "2. 해시값을 인덱스로 하는 버킷에 주목    \n",
    "3. 버킷이 참조하는 연결 리스트를 맨 앞부터 차례로 스캔.    \n",
    "- 키와 같은 값이 발견되면 검색에 `성공`    \n",
    "- 원소의 맨 끝까지 스캔해서 발견되지 않으면 검색 `실패`   "
   ],
   "cell_type": "markdown",
   "metadata": {}
  },
  {
   "cell_type": "code",
   "execution_count": 33,
   "metadata": {},
   "outputs": [],
   "source": [
    "def search(self, key:Any) -> Any:\n",
    "    '''키가 key인 원소를 검색하여 값을 반환'''\n",
    "    hash = self.hash_value(key)     # 검색하는 키의 해시값 \n",
    "    p = self.table[hash]\n",
    "\n",
    "    while p is not None:\n",
    "        if p.key == key:\n",
    "            return p.value          # 검색 성공\n",
    "        p = p.next                  # 뒤쪽 노드를 주목\n",
    "\n",
    "def add(self, key: Any, value: Any) -> bool:\n",
    "    '''키가 key이고 값이 value인 원소를 추가 '''\n",
    "    hash = self.hash_value(key)     # ㅜ가하는 key의 해시값 \n",
    "    p = pself.table[hash]\n",
    "\n",
    "    while p is not None:\n",
    "        if p.key == key:\n",
    "            return False\n",
    "        p = p.next\n",
    "    \n",
    "    temp = Node(key, value, self.table[hash])\n",
    "    self.table[hash] = temp         # 노드를 추가 \n",
    "    return True\n"
   ]
  },
  {
   "source": [
    "### 원소를 추가하는 add() 함수   \n",
    "   \n",
    "add()함수는 키가 key이고 값이 value인 원소를 추가합니다. \n",
    "\n",
    "#### 13추가하기    \n",
    "먼저 13의 해시값은 0이고 table\\[0\\]은 None입니다. 13을 저장하는 노드를 새로 생성하고, 그 노드에 대한 참조를 table\\[0\\]에 대입합니다. \n",
    "\n",
    "#### 46 추가하기    \n",
    "46추가하기    \n",
    "46의 해시값은  7이고 "
   ],
   "cell_type": "markdown",
   "metadata": {}
  }
 ]
}