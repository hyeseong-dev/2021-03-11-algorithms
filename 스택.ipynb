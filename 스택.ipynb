{
 "metadata": {
  "language_info": {
   "codemirror_mode": {
    "name": "ipython",
    "version": 3
   },
   "file_extension": ".py",
   "mimetype": "text/x-python",
   "name": "python",
   "nbconvert_exporter": "python",
   "pygments_lexer": "ipython3",
   "version": "3.9.1-final"
  },
  "orig_nbformat": 2,
  "kernelspec": {
   "name": "python3",
   "display_name": "Python 3.9.1 64-bit ('venv': venv)",
   "metadata": {
    "interpreter": {
     "hash": "276cd0850b4d6ce7af5837000dbf3a42791da73a8252296813028727418dddec"
    }
   }
  }
 },
 "nbformat": 4,
 "nbformat_minor": 2,
 "cells": [
  {
   "cell_type": "code",
   "execution_count": 7,
   "metadata": {},
   "outputs": [
    {
     "output_type": "stream",
     "name": "stdout",
     "text": [
      "스택이 비었나요?: True\n스택에 숫자 0-9를 추가합니다.\n스택 크기 : 10\nsize: 10\ngetPeak: 9\npop: 9\ngetPeak: 8\nEmpty??? False\n[0, 1, 2, 3, 4, 5, 6, 7, 8]\n"
     ]
    }
   ],
   "source": [
    "class Stack:\n",
    "    def __init__(self):\n",
    "        self.state = []\n",
    "\n",
    "    def push(self, data):\n",
    "\t\t\t# 데이터를 스택에 push 하는 것을 구현 해 주세요\n",
    "            return self.state.append(data)\n",
    "\n",
    "    def pop(self):\n",
    "\t\t\t# 데이터를 스택에서 pop 해서 그 값을 리턴하도록 구현 해 주세요\n",
    "            value = self.state.pop()\n",
    "            if value is not None:\n",
    "                return value\n",
    "            else:\n",
    "                print('Stack is empty.')\n",
    "\n",
    "    def getPeak(self):\n",
    "\t\t\t# 스택의 최상위 값을 리턴하도록 구현 해 주세요\n",
    "        if self.state:\n",
    "            return self.state[-1]\n",
    "        else:\n",
    "            print('Stack is empty.')\n",
    "    \n",
    "    def isEmpty(self):\n",
    "        # 데이터가 stack에 있는지 유무 파악\n",
    "        return not bool(self.state)\n",
    "    \n",
    "    def size(self):\n",
    "        # stack에 몇개의 값이 있는지 확인\n",
    "        return len(self.state)\n",
    "\n",
    "    def __repr__(self):\n",
    "        return repr(self.state)\n",
    "\n",
    "if __name__ == '__main__':\n",
    "    stack = Stack()\n",
    "    print('스택이 비었나요?: {}'.format(stack.isEmpty()))\n",
    "    print('스택에 숫자 0-9를 추가합니다.')\n",
    "    for i in range(10):\n",
    "        stack.push(i)\n",
    "    print('스택 크기 : {0}'.format(stack.size()))\n",
    "    print('size: {}'.format(stack.size()))\n",
    "    print('getPeak: {}'.format(stack.getPeak()))\n",
    "    print('pop: {}'.format(stack.pop()))\n",
    "    print('getPeak: {}'.format(stack.getPeak()))\n",
    "    print('Empty??? {}'.format(stack.isEmpty()))\n",
    "    print(stack)"
   ]
  },
  {
   "cell_type": "code",
   "execution_count": null,
   "metadata": {},
   "outputs": [],
   "source": [
    "class Queue:\n",
    "    def __init__(self):\n",
    "        self.state = []\n",
    "\n",
    "    def enqueue(self, data):\n",
    "\t\t\t# queue 뒤쪽에 항목을 삽입합니다.\n",
    "        self.state.insert(0, data)\n",
    "\n",
    "    def dequeue(self):\n",
    "\t\t\t# Queue앞 쪽의 항목을 반환하고, 제거\n",
    "        value = self.state.pop()\n",
    "        if value is not None:\n",
    "            return value\n",
    "        else:\n",
    "            print('Queue' is empty.')\n",
    "\n",
    "    def getPeak(self):\n",
    "\t\t\t# 스택의 최상위 값을 리턴하도록 구현 해 주세요\n",
    "        if self.state:\n",
    "            return self.state[-1]\n",
    "        else:\n",
    "            print('Stack is empty.')\n",
    "    \n",
    "    def isEmpty(self):\n",
    "        # 데이터가 stack에 있는지 유무 파악\n",
    "        return not bool(self.state)\n",
    "    \n",
    "    def size(self):\n",
    "        # stack에 몇개의 값이 있는지 확인\n",
    "        return len(self.state)\n",
    "\n",
    "    def __repr__(self):\n",
    "        return repr(self.state)\n",
    "\n",
    "if __name__ == '__main__':\n",
    "    queue = Queue()\n",
    "    print('스택이 비었나요?: {}'.format(queue.isEmpty()))\n",
    "    print('스택에 숫자 0-9를 추가합니다.')\n",
    "    for i in range(10):\n",
    "        queue.enqueue(i)\n",
    "    print('스택 크기 : {0}'.format(queue.size()))\n",
    "    print('size: {}'.format(queue.size()))\n",
    "    print('getPeak: {}'.format(queue.getPeak()))\n",
    "    print('pop: {}'.format(queue.dequeue()))\n",
    "    print('getPeak: {}'.format(queue.getPeak()))\n",
    "    print('Empty??? {}'.format(queue.isEmpty()))\n",
    "    print(queue)"
   ]
  }
 ]
}